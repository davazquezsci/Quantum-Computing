{
 "cells": [
  {
   "cell_type": "markdown",
   "metadata": {},
   "source": [
    "<div style=\"text-align: center;\">\n",
    "\n",
    "# **Algoritmia Cuantica** \n",
    "# Algoritmo de Deustch  \n",
    "<font size=\"2\">\n",
    "\n",
    "##### Daniel Amauri Vázquez Gutiérrez\n",
    "</font>\n"
   ]
  },
  {
   "cell_type": "markdown",
   "metadata": {},
   "source": [
    "**Crea el oráculo del algoritmo de Deutsch para cada una de las opciones del algoritmo visto en clase .**\n",
    "\n",
    "\n",
    "1. $ f(0) = f(1) = 0 $ \n",
    "2. $ f(0) = f(1) = 1 $ \n",
    "3. $ f(0) = 0, f(1) = 1 $ \n",
    "4. $f(0) = 1, f(1) = 0 $\n",
    "\n",
    "<br><br>\n",
    "Coloca los cálculos matemáticos con las compuertas que elegiste, junto con el circuito. No olvides medir el qubit que mostrara si la función es constante o balanceada \n"
   ]
  },
  {
   "cell_type": "code",
   "execution_count": 2,
   "metadata": {},
   "outputs": [
    {
     "name": "stdout",
     "output_type": "stream",
     "text": [
      "1.2.0\n"
     ]
    }
   ],
   "source": [
    "import numpy as np \n",
    "from qiskit import QuantumCircuit, transpile, assemble \n",
    "from qiskit_aer import Aer #Aer es un modulo de Qiskit que proporciona simuladores cuanticos para ejecutarlos de manera local. \n",
    "from qiskit.visualization import plot_histogram,plot_bloch_vector\n",
    "\n",
    "import qiskit \n",
    "print(qiskit.version.get_version_info())"
   ]
  },
  {
   "cell_type": "markdown",
   "metadata": {},
   "source": [
    "Recordamos que para todo estado entrelazado $|x, y \\rangle$ , la aplicacion de nuestro oraculo  es :  \n",
    "\n",
    "$$U_f |x, y\\rangle =|x , y \\oplus f(x) \\rangle $$ \n",
    "\n",
    "Donde $f(x)$ puede ser tanto uena funcion constante como una balanceada.  \n",
    "\n"
   ]
  },
  {
   "cell_type": "markdown",
   "metadata": {},
   "source": [
    "Ahora, notamos lo siguiente : \n",
    "\n",
    "$$U_f |00\\rangle =|0 , 0 \\oplus f(0) \\rangle = | 0\\rangle | f(0)\\rangle$$  \n",
    "$$U_f |01\\rangle =|0 , 1 \\oplus f(0) \\rangle = | 0\\rangle | \\overline{f(0)}\\rangle$$  \n",
    "$$U_f |10\\rangle =|1 , 0 \\oplus f(1) \\rangle = | 1\\rangle | f(1)\\rangle$$  \n",
    "$$U_f |11\\rangle =|1 , 1 \\oplus f(1) \\rangle = | 1\\rangle | \\overline{f(1)}\\rangle$$  "
   ]
  },
  {
   "cell_type": "markdown",
   "metadata": {},
   "source": [
    "Una propiedad util apartir de lo anterior es el  ver como se comporta  la superposicion de algun Qbit $|x\\rangle$  con el Qbit $|-\\rangle$\n",
    "\n",
    "\\begin{equation}\n",
    "U_f (|x\\rangle |-\\rangle)= |x\\rangle ((-1)^{f(x)}|-\\rangle)\n",
    "\\end{equation}"
   ]
  },
  {
   "cell_type": "markdown",
   "metadata": {},
   "source": [
    "<font size=\"5\"> \n",
    "\n",
    "**Caso 1: $f(0)=f(1)=0$** \n",
    "\n",
    "</font>"
   ]
  },
  {
   "cell_type": "markdown",
   "metadata": {},
   "source": [
    "Entonces notamos lo siguiente : \n",
    "\n",
    "$$U_f |00\\rangle =|0 , 0 \\oplus f(0) \\rangle = | 00\\rangle$$  \n",
    "$$U_f |01\\rangle =|0 , 1 \\oplus f(0) \\rangle = | 01\\rangle$$  \n",
    "$$U_f |10\\rangle =|1 , 0 \\oplus f(1) \\rangle = | 10\\rangle$$  \n",
    "$$U_f |11\\rangle =|1 , 1 \\oplus f(1) \\rangle = | 11\\rangle$$  \n",
    "\n",
    "Con esto  sabemos ademas que , al entrar al Oraculo : \n",
    "\n",
    "$$ U_f(|+\\rangle |-\\rangle)= U_f (\\frac{1}{\\sqrt{2}}(|0\\rangle+|1\\rangle)|-\\rangle)$$\n",
    "\n",
    "Esto entontonce pasa a ser:      \n",
    "\n",
    "$$U_f(|+\\rangle |-\\rangle)= \\frac{1}{\\sqrt{2}}(|0\\rangle|- \\rangle + |1\\rangle|-\\rangle) = |+\\rangle |-\\rangle$$"
   ]
  },
  {
   "cell_type": "markdown",
   "metadata": {},
   "source": [
    "Por lo tanto ,$ U_f$ actua como la compuerta Identidad. Para realizar esto en Qskit, tengo entendido que lo podemos introducir directamente sin colocar nada. "
   ]
  },
  {
   "cell_type": "code",
   "execution_count": 14,
   "metadata": {},
   "outputs": [
    {
     "data": {
      "image/png": "[encoded data removed]",
      "text/plain": [
       "<Figure size 370.906x284.278 with 1 Axes>"
      ]
     },
     "execution_count": 14,
     "metadata": {},
     "output_type": "execute_result"
    }
   ],
   "source": [
    "# Creamos un circuito con 2 qubits\n",
    "qc = QuantumCircuit(2,1) #Modificamos esto para que unicamente nos de un solo resultado de qbit \n",
    "\n",
    "\n",
    "qc.x(1) \n",
    "\n",
    "qc.h(0)\n",
    "\n",
    "qc.h(1)  \n",
    "\n",
    "qc.h(0)\n",
    "\n",
    "qc.measure(0,0)\n",
    "\n",
    "\n",
    " #Los primeros son los qbits que quiero medir y los segundos bits clasicos en los que se guardara la informacion  de estos \n",
    "\n",
    "qc.draw(\"mpl\")"
   ]
  },
  {
   "cell_type": "code",
   "execution_count": 15,
   "metadata": {},
   "outputs": [
    {
     "data": {
      "image/png": "[encoded data removed]",
      "text/plain": [
       "<Figure size 640x480 with 1 Axes>"
      ]
     },
     "execution_count": 15,
     "metadata": {},
     "output_type": "execute_result"
    }
   ],
   "source": [
    "#------Obtencion del histograma ----------------\n",
    "\n",
    "backend=Aer.get_backend('qasm_simulator')  \n",
    "#podemos cambiar a 'qasm_simulator' , ya que 'statevector_simulator' no es compatible con mediciones clasicas\n",
    "\n",
    "compilado=transpile(qc, backend)  \n",
    "#transpile es una funcion que optimiza el circuito cuantico para que sea compatible con el backend seleccionado. \n",
    "\n",
    "job=backend.run(compilado, shots=1024)  \n",
    "#Ejecutamos el circuito cuantico \n",
    "#Shots, especifica cuantas veces se ejecuta el circuito cuantico ( recordemos que la cuantica es probabilistica)\n",
    "\n",
    "result=job.result() #Obtiene los resultados del lo anterior\n",
    "\n",
    "# Graficamos el histograma de resultados\n",
    "plot_histogram(result.get_counts()) \n"
   ]
  },
  {
   "cell_type": "markdown",
   "metadata": {},
   "source": [
    "Dandonos 0 , lo que significa  que la funcion es constante. "
   ]
  },
  {
   "cell_type": "markdown",
   "metadata": {},
   "source": [
    "<font size=\"5\"> \n",
    "\n",
    "**Caso 2: $f(0)=f(1)=1$** \n",
    "\n",
    "</font>"
   ]
  },
  {
   "cell_type": "markdown",
   "metadata": {},
   "source": [
    "Entonces notamos lo siguiente : \n",
    "\n",
    "$$U_f |00\\rangle =|0 , 0 \\oplus f(0) \\rangle = | 01\\rangle$$  \n",
    "$$U_f |01\\rangle =|0 , 1 \\oplus f(0) \\rangle = | 00\\rangle$$  \n",
    "$$U_f |10\\rangle =|1 , 0 \\oplus f(1) \\rangle = | 11\\rangle$$  \n",
    "$$U_f |11\\rangle =|1 , 1 \\oplus f(1) \\rangle = | 10\\rangle$$  \n",
    "\n",
    "Con esto  sabemos ademas que , al entrar al Oraculo : \n",
    "\n",
    "$$ U_f(|+\\rangle |-\\rangle)= U_f (\\frac{1}{\\sqrt{2}}(|0\\rangle+|1\\rangle)|-\\rangle)$$\n",
    "\n",
    "Esto entontonce pasa a ser:      \n",
    "\n",
    "$$U_f(|+\\rangle |-\\rangle)= \\frac{1}{\\sqrt{2}}(-|0\\rangle|- \\rangle - |1\\rangle|-\\rangle) = -|+\\rangle |-\\rangle = (|+\\rangle)(- |-\\rangle) $$"
   ]
  },
  {
   "cell_type": "markdown",
   "metadata": {},
   "source": [
    "Entonces notamos que en el segundo Qbit , hay que añadir  una puerta X(not)  ya que :\n",
    "\n",
    "$$X|-\\rangle =\\frac{1}{\\sqrt{2}}(|1\\rangle -|0\\rangle)=-|-\\rangle"
   ]
  },
  {
   "cell_type": "code",
   "execution_count": 16,
   "metadata": {},
   "outputs": [
    {
     "data": {
      "image/png": "[encoded data removed]",
      "text/plain": [
       "<Figure size 454.517x284.278 with 1 Axes>"
      ]
     },
     "execution_count": 16,
     "metadata": {},
     "output_type": "execute_result"
    }
   ],
   "source": [
    "# Creamos un circuito con 2 qubits\n",
    "qc = QuantumCircuit(2,1) \n",
    "\n",
    "\n",
    "qc.x(1)\n",
    "\n",
    "qc.h(0)\n",
    "\n",
    "qc.h(1)   \n",
    "\n",
    "qc.x(1)\n",
    "\n",
    "qc.h(0)\n",
    "\n",
    "qc.measure(0,0)\n",
    "\n",
    "\n",
    " #Los primeros son los qbits que quiero medir y los segundos bits clasicos en los que se guardara la informacion  de estos \n",
    "\n",
    "qc.draw(\"mpl\")"
   ]
  },
  {
   "cell_type": "code",
   "execution_count": 17,
   "metadata": {},
   "outputs": [
    {
     "data": {
      "image/png": "[encoded data removed]",
      "text/plain": [
       "<Figure size 640x480 with 1 Axes>"
      ]
     },
     "execution_count": 17,
     "metadata": {},
     "output_type": "execute_result"
    }
   ],
   "source": [
    "#------Obtencion del histograma ----------------\n",
    "\n",
    "backend=Aer.get_backend('qasm_simulator')  \n",
    "#podemos cambiar a 'qasm_simulator' , ya que 'statevector_simulator' no es compatible con mediciones clasicas\n",
    "\n",
    "compilado=transpile(qc, backend)  \n",
    "#transpile es una funcion que optimiza el circuito cuantico para que sea compatible con el backend seleccionado. \n",
    "\n",
    "job=backend.run(compilado, shots=1024)  \n",
    "#Ejecutamos el circuito cuantico \n",
    "#Shots, especifica cuantas veces se ejecuta el circuito cuantico ( recordemos que la cuantica es probabilistica)\n",
    "\n",
    "result=job.result() #Obtiene los resultados del lo anterior\n",
    "\n",
    "# Graficamos el histograma de resultados\n",
    "plot_histogram(result.get_counts()) \n"
   ]
  },
  {
   "cell_type": "markdown",
   "metadata": {},
   "source": [
    "Que igualmente deja intacto el primer qbit, que se mantiene siendo cero y por lo tanto la funcion es constante "
   ]
  },
  {
   "cell_type": "markdown",
   "metadata": {},
   "source": [
    "<font size=\"5\"> \n",
    "\n",
    "**Caso 3: $f(0)=0, f(1)=1$** \n",
    "\n",
    "</font>"
   ]
  },
  {
   "cell_type": "markdown",
   "metadata": {},
   "source": [
    "Entonces notamos lo siguiente : \n",
    "\n",
    "$$U_f |00\\rangle =|0 , 0 \\oplus f(0) \\rangle = | 00\\rangle$$  \n",
    "$$U_f |01\\rangle =|0 , 1 \\oplus f(0) \\rangle = | 01\\rangle$$  \n",
    "$$U_f |10\\rangle =|1 , 0 \\oplus f(1) \\rangle = | 11\\rangle$$  \n",
    "$$U_f |11\\rangle =|1 , 1 \\oplus f(1) \\rangle = | 10\\rangle$$   \n",
    "\n",
    "Con esto  sabemos ademas que , al entrar al Oraculo : \n",
    "\n",
    "$$ U_f(|+\\rangle |-\\rangle)= U_f (\\frac{1}{\\sqrt{2}}(|0\\rangle+|1\\rangle)|-\\rangle)$$\n",
    "\n",
    "Esto entontonce pasa a ser:      \n",
    "\n",
    "$$U_f(|+\\rangle |-\\rangle)= \\frac{1}{\\sqrt{2}}(|0\\rangle|- \\rangle - |1\\rangle|-\\rangle) = |-\\rangle |-\\rangle  $$\n"
   ]
  },
  {
   "cell_type": "markdown",
   "metadata": {},
   "source": [
    "Notamos que esto se puede conseguir mediante una compuerta CNOT de la primera a segunda.  \n",
    "\n",
    "Para cerciorarnos , veamos como actua una compuerta CNOT  en la superposicion $|+\\rangle |-\\rangle$  \n",
    "\n",
    "\n",
    "$$CNOT|+\\rangle |-\\rangle = \\frac{1}{2}CNOT(|00\\rangle+|10\\rangle-|01\\rangle-|11\\rangle)=\\frac{1}{2} (|00\\rangle+|11\\rangle-|01\\rangle-|10\\rangle)$$\n",
    "\n",
    "esto es igual a : \n",
    "\n",
    "$$CNOT|+\\rangle |-\\rangle=\\frac{1}{2} (|00\\rangle+|11\\rangle-|01\\rangle-|10\\rangle)=\\frac{1}{2}(|0\\rangle(|0\\rangle-|1\\rangle)-|1\\rangle(|0\\rangle-|1\\rangle)$$ \n",
    "\n",
    "por lo tanto :  \n",
    "\n",
    "$$CNOT|+\\rangle |-\\rangle=|-\\rangle |-\\rangle$$"
   ]
  },
  {
   "cell_type": "code",
   "execution_count": 22,
   "metadata": {},
   "outputs": [
    {
     "data": {
      "image/png": "[encoded data removed]",
      "text/plain": [
       "<Figure size 538.128x284.278 with 1 Axes>"
      ]
     },
     "execution_count": 22,
     "metadata": {},
     "output_type": "execute_result"
    }
   ],
   "source": [
    "# Creamos un circuito con 2 qubits\n",
    "qc = QuantumCircuit(2,1) #Modificamos esto para que unicamente nos de un solo resultado de qbit \n",
    "\n",
    "\n",
    "qc.x(1)\n",
    "\n",
    "qc.h(0)\n",
    "\n",
    "qc.h(1)   \n",
    "\n",
    "qc.cx(0,1)\n",
    "\n",
    "qc.h(0)\n",
    "\n",
    "qc.measure(0,0)\n",
    "\n",
    "\n",
    " #Los primeros son los qbits que quiero medir y los segundos bits clasicos en los que se guardara la informacion  de estos \n",
    "\n",
    "qc.draw(\"mpl\")"
   ]
  },
  {
   "cell_type": "code",
   "execution_count": 23,
   "metadata": {},
   "outputs": [
    {
     "data": {
      "image/png": "[encoded data removed]",
      "text/plain": [
       "<Figure size 640x480 with 1 Axes>"
      ]
     },
     "execution_count": 23,
     "metadata": {},
     "output_type": "execute_result"
    }
   ],
   "source": [
    "#------Obtencion del histograma ----------------\n",
    "\n",
    "backend=Aer.get_backend('qasm_simulator')  \n",
    "#podemos cambiar a 'qasm_simulator' , ya que 'statevector_simulator' no es compatible con mediciones clasicas\n",
    "\n",
    "compilado=transpile(qc, backend)  \n",
    "#transpile es una funcion que optimiza el circuito cuantico para que sea compatible con el backend seleccionado. \n",
    "\n",
    "job=backend.run(compilado, shots=1024)  \n",
    "#Ejecutamos el circuito cuantico \n",
    "#Shots, especifica cuantas veces se ejecuta el circuito cuantico ( recordemos que la cuantica es probabilistica)\n",
    "\n",
    "result=job.result() #Obtiene los resultados del lo anterior\n",
    "\n",
    "# Graficamos el histograma de resultados\n",
    "plot_histogram(result.get_counts()) "
   ]
  },
  {
   "cell_type": "markdown",
   "metadata": {},
   "source": [
    "<font size=\"5\"> \n",
    "\n",
    "**Caso 4: $f(0)=1, f(1)=0$** \n",
    "\n",
    "</font>"
   ]
  },
  {
   "cell_type": "markdown",
   "metadata": {},
   "source": [
    "Entonces notamos lo siguiente : \n",
    "\n",
    "$$U_f |00\\rangle =|0 , 0 \\oplus f(0) \\rangle = | 01\\rangle$$  \n",
    "$$U_f |01\\rangle =|0 , 1 \\oplus f(0) \\rangle = | 00\\rangle$$  \n",
    "$$U_f |10\\rangle =|1 , 0 \\oplus f(1) \\rangle = | 10\\rangle$$  \n",
    "$$U_f |11\\rangle =|1 , 1 \\oplus f(1) \\rangle = | 11\\rangle$$   \n",
    "\n",
    "Con esto  sabemos ademas que , al entrar al Oraculo : \n",
    "\n",
    "$$ U_f(|+\\rangle |-\\rangle)= U_f (\\frac{1}{\\sqrt{2}}(|0\\rangle+|1\\rangle)|-\\rangle)$$\n",
    "\n",
    "Esto entontonce pasa a ser:      \n",
    "\n",
    "$$U_f(|+\\rangle |-\\rangle)= \\frac{1}{\\sqrt{2}}(-|0\\rangle|- \\rangle + |1\\rangle|-\\rangle) = -|-\\rangle |-\\rangle  $$\n"
   ]
  },
  {
   "cell_type": "markdown",
   "metadata": {},
   "source": [
    "Por lo tanto , por lo visto en el Caso 2 y en el 3 , vemos que  Uf es la combinacion entre X en el segundo Qbit y la compuerta CNOT de la primera al segundo. "
   ]
  },
  {
   "cell_type": "code",
   "execution_count": 24,
   "metadata": {},
   "outputs": [
    {
     "data": {
      "image/png": "[encoded data removed]",
      "text/plain": [
       "<Figure size 621.739x284.278 with 1 Axes>"
      ]
     },
     "execution_count": 24,
     "metadata": {},
     "output_type": "execute_result"
    }
   ],
   "source": [
    "# Creamos un circuito con 2 qubits\n",
    "qc = QuantumCircuit(2,1) #Modificamos esto para que unicamente nos de un solo resultado de qbit \n",
    "\n",
    "\n",
    "qc.x(1)\n",
    "\n",
    "qc.h(0)\n",
    "\n",
    "qc.h(1)    \n",
    "\n",
    "qc.x(1)\n",
    "\n",
    "qc.cx(0,1)\n",
    "\n",
    "qc.h(0)\n",
    "\n",
    "qc.measure(0,0)\n",
    "\n",
    "\n",
    " #Los primeros son los qbits que quiero medir y los segundos bits clasicos en los que se guardara la informacion  de estos \n",
    "\n",
    "qc.draw(\"mpl\")"
   ]
  },
  {
   "cell_type": "code",
   "execution_count": 25,
   "metadata": {},
   "outputs": [
    {
     "data": {
      "image/png": "[encoded data removed]",
      "text/plain": [
       "<Figure size 640x480 with 1 Axes>"
      ]
     },
     "execution_count": 25,
     "metadata": {},
     "output_type": "execute_result"
    }
   ],
   "source": [
    "#------Obtencion del histograma ----------------\n",
    "\n",
    "backend=Aer.get_backend('qasm_simulator')  \n",
    "#podemos cambiar a 'qasm_simulator' , ya que 'statevector_simulator' no es compatible con mediciones clasicas\n",
    "\n",
    "compilado=transpile(qc, backend)  \n",
    "#transpile es una funcion que optimiza el circuito cuantico para que sea compatible con el backend seleccionado. \n",
    "\n",
    "job=backend.run(compilado, shots=1024)  \n",
    "#Ejecutamos el circuito cuantico \n",
    "#Shots, especifica cuantas veces se ejecuta el circuito cuantico ( recordemos que la cuantica es probabilistica)\n",
    "\n",
    "result=job.result() #Obtiene los resultados del lo anterior\n",
    "\n",
    "# Graficamos el histograma de resultados\n",
    "plot_histogram(result.get_counts()) "
   ]
  },
  {
   "cell_type": "markdown",
   "metadata": {},
   "source": [
    "Por lo tanto , notamos que podemos  generar  por casos este algoritmo  y que efectivamente, logramos hacer que  en cada caso , al medir el primer  Qbit , obtengamos $|0\\rangle$ o $|1\\rangle$ , en funcion de si es constante o balanceado. "
   ]
  }
 ],
 "metadata": {
  "kernelspec": {
   "display_name": "base",
   "language": "python",
   "name": "python3"
  },
  "language_info": {
   "codemirror_mode": {
    "name": "ipython",
    "version": 3
   },
   "file_extension": ".py",
   "mimetype": "text/x-python",
   "name": "python",
   "nbconvert_exporter": "python",
   "pygments_lexer": "ipython3",
   "version": "3.12.4"
  }
 },
 "nbformat": 4,
 "nbformat_minor": 2
}
