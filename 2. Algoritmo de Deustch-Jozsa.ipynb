{
 "cells": [
  {
   "cell_type": "markdown",
   "metadata": {},
   "source": [
    "<div style=\"text-align: center;\">\n",
    "\n",
    "# **Algoritmia Cuantica** \n",
    "# Algoritmo de Deustch-Jozsa \n",
    "<font size=\"2\">\n",
    "\n",
    "##### Daniel Amauri Vázquez Gutiérrez\n",
    "</font>\n"
   ]
  },
  {
   "cell_type": "markdown",
   "metadata": {},
   "source": [
    "**Realiza el Circuito de Deutsch Jozsa generalizado, construyendo una compuerta para n qubits**\n",
    "**Como datos de entrada se pedira el numero de qbits.** \n",
    "\n",
    "Entonces procedemos analizando el circuito a nivel teorico en primer lugar.  \n",
    "\n",
    "Como sabemos tenemos una entrada de la siguiente forma : \n",
    "\n",
    "$$|\\Psi\\rangle =|0\\rangle^{\\otimes n}|1\\rangle$$"
   ]
  },
  {
   "cell_type": "markdown",
   "metadata": {},
   "source": [
    "Despues , a cada una de las $n$ entradas se añade una compuerta de Hadamard, con esto obtenemos :  \n",
    "\n",
    "$$|\\Psi\\rangle_1=H^{\\otimes n}|0\\rangle^{\\otimes n} \\otimes H |1\\rangle=\\frac{1}{\\sqrt{2^n}}\\sum^{2^n-1}_{x=0}|x\\rangle |-\\rangle$$ "
   ]
  },
  {
   "cell_type": "markdown",
   "metadata": {},
   "source": [
    "Podemos notar en esta expresion que tenemos la generalizacion con $x$ , representando una cadena de $n$ numeros  entre 0 y 1. Cuando dice que la sumatoria va desde $x=0$ hasta $x=2^n-1$ se refiere a que empieza con la representacion **en binario** de  $x=0$ y llega  hasta  $x=2^n-1$ igualmente representado en binario. \n",
    "\n",
    "Sin embargo por practicidad a estas cadenas de numeros las podemos ver como vectores $|2\\rangle$,$|3\\rangle$,$|4\\rangle$, etc. Sin perdida de generalidad  y propiedades; unicamente no olvidando lo que enrealidad estan representando. "
   ]
  },
  {
   "cell_type": "markdown",
   "metadata": {},
   "source": [
    "Nuestro siguiente problema de interes es el ver como generar la representacion matricial del oraculo $U_f$. Siguiendo el como se comportaba  el Oraculo  en el algoritmo de Deustch , entonces notamos la siguiente caracteristica : \n",
    "\n",
    "$$U_f(|x\\rangle |0\\rangle)=|x\\rangle |0 \\oplus f(x) \\rangle =|x\\rangle |f(x) \\rangle $$\n",
    "$$U_f(|x\\rangle |1\\rangle)=|x\\rangle |1 \\oplus f(x) \\rangle =|x\\rangle |\\overline{f(x) }\\rangle $$\n"
   ]
  },
  {
   "cell_type": "markdown",
   "metadata": {},
   "source": [
    "Esto , mas la propiedad  de la forma matricial de los Operadores que nos dice que :  \n",
    "$$A_{ij}= \\langle u_i | A | u_j\\rangle $$"
   ]
  },
  {
   "cell_type": "markdown",
   "metadata": {},
   "source": [
    "Remarcando en primera instancia que como cada Qbit lo representamos como un vector $1\\times 2$ , entonces al ser  un sistema con $n+1$ Qbits , nuestra representacion matricial tendra entradas de $2^{n+1}\\times 2^{n+1}$  \n",
    "\n",
    "Podemos notar que las  columnas de la matriz representan las \n",
    "$$|x\\rangle|y\\rangle$$ \n",
    "\n",
    "Con  $x\\epsilon N$ y $y\\epsilon[0,1]$, por otro lado  las filas las podemos ver como vectores  como el adjunto del anterior, esto es :  \n",
    "$$\\langle y|\\langle x|$$ \n",
    "\n",
    "De tal forma que para alguna columna o fila $i$ , podemos identificar su vectores $x$ y $y$ de la siguiente forma: \n",
    "$$y= mod_2(i)$$  \n",
    "$$x= \\frac{i-y}{2}$$\n",
    "\n"
   ]
  },
  {
   "cell_type": "markdown",
   "metadata": {},
   "source": [
    "Juntando estos resultados , junto con nuestras relaciones de estos vectores al ser evaluados en nuestra matriz $U_f$, podemos hacer  como ejemplo las primeras dos matrices , cuando $n=1$ y cuando $n=2$ :  "
   ]
  },
  {
   "cell_type": "markdown",
   "metadata": {},
   "source": [
    "* **$n=1$** \n",
    "$$\n",
    "\\begin{matrix}\n",
    "1-f(0) & f(0) &0&0 \\\\\n",
    "f(0) & 1-f(0) &0&0\\\\\n",
    "0&0&1-f(1)&f(1)\\\\\n",
    "0&0&f(1)&1-f(1)\\\\\n",
    "\\end{matrix}\n",
    "$$  \n",
    "\n",
    "Notese que entonces tenemos 2 Qbits y que la dimencion de nuestra matris es $2^{1+1}=2^{2}=4$"
   ]
  },
  {
   "cell_type": "markdown",
   "metadata": {},
   "source": [
    "* **$n=2$** \n",
    "$$\n",
    "\\begin{matrix}\n",
    "1-f(0) & f(0) &0&0&0&0&0&0 \\\\\n",
    "f(0) & 1-f(0) &0&0&0&0&0&0\\\\\n",
    "0&0&1-f(1)&f(1)&0&0&0&0\\\\\n",
    "0&0&f(1)&1-f(1)&0&0&0&0\\\\\n",
    "0&0&0&0&1-f(2)&f(2)&0&0\\\\\n",
    "0&0&0&0&f(2)&1-f(2)&0&0\\\\\n",
    "0&0&0&0&0&0&1-f(3)&f(3)\\\\\n",
    "0&0&0&0&0&0&f(3)&1-f(3)\\\\\n",
    "\n",
    "\\end{matrix}\n",
    "$$ "
   ]
  },
  {
   "cell_type": "markdown",
   "metadata": {},
   "source": [
    "Notese que entonces tenemos 2 Qbits y que la dimencion de nuestra matris es $2^{2+1}=2^{3}=8$, sumado a esto vemos  un patron muy claro en la matriz que se produce , con una *diagonal en bloques* que puede ser expandible a cualquier valor de $n$"
   ]
  },
  {
   "cell_type": "markdown",
   "metadata": {},
   "source": [
    "Con esto dicho , podemos comenzar con la programacion : "
   ]
  },
  {
   "cell_type": "code",
   "execution_count": 1,
   "metadata": {},
   "outputs": [],
   "source": [
    "import pennylane as qml\n",
    "import numpy as np    "
   ]
  },
  {
   "cell_type": "markdown",
   "metadata": {},
   "source": [
    "Ahora requerimos ingresar un numero natural que sea nuestra cantidad de Qbits $|0\\rangle$  : "
   ]
  },
  {
   "cell_type": "code",
   "execution_count": 21,
   "metadata": {},
   "outputs": [],
   "source": [
    "n = int(input(\"Por favor, ingresa un número natural: \"))"
   ]
  },
  {
   "cell_type": "code",
   "execution_count": 20,
   "metadata": {},
   "outputs": [],
   "source": [
    "#Crea el dispositivo cuantico\n",
    "dev = qml.device('default.qubit', wires=n+1,shots=5)\n",
    "\n",
    "#La numeracion de los wires comienza en 0 y llegara hasta el wire n, haciendo un total de n+1 wires"
   ]
  },
  {
   "cell_type": "markdown",
   "metadata": {},
   "source": [
    "Definiremos ahora las funciones posibles que puede tomar $f(x)$  , que  seran analogas a las funciones *identidad*,*flip* y las funciones *constantes*; que trabajarian con el modulo 2 de el numero $x$ que se  ingrese en estas: "
   ]
  },
  {
   "cell_type": "code",
   "execution_count": 4,
   "metadata": {},
   "outputs": [],
   "source": [
    "#Funcion 1. Identidad \n",
    " \n",
    "def f1(x):\n",
    "  #f:{0,1}-->{0,1}\n",
    "  if (x%2)==0:\n",
    "    return 0\n",
    "  if (x%2)==1:\n",
    "    return 1\n",
    "  \n",
    "#Funcion 2. Flip \n",
    " \n",
    "def f2(x):\n",
    "  #f:{0,1}-->{0,1}\n",
    "  if (x%2)==0:\n",
    "    return 1\n",
    "  if (x%2)==1:\n",
    "    return 0\n",
    "  \n",
    "#Funcion 3. Constante 0 \n",
    " \n",
    "def f3(x):\n",
    "  #f:{0,1}-->{0,1}\n",
    "  if (x%2)==0:\n",
    "    return 0\n",
    "  if (x%2)==1:\n",
    "    return 0 \n",
    "  \n",
    "#Funcion 4. Constante 1 \n",
    " \n",
    "def f4(x):\n",
    "  #f:{0,1}-->{0,1}\n",
    "  if (x%2)==0:\n",
    "    return 1\n",
    "  if (x%2)==1:\n",
    "    return 1"
   ]
  },
  {
   "cell_type": "markdown",
   "metadata": {},
   "source": [
    "Preparar el oráculo por el que pasarán nuestros qubits. Para esto formamos una matris respecto con las nesecidades del vector  original ."
   ]
  },
  {
   "cell_type": "code",
   "execution_count": 5,
   "metadata": {},
   "outputs": [
    {
     "name": "stdout",
     "output_type": "stream",
     "text": [
      "Generamos la matriz Uf  de la dimencion requerida  32x32:\n"
     ]
    }
   ],
   "source": [
    "\n",
    "dim = 2**(n+1) \n",
    "\n",
    "print(f\"Generamos la matriz Uf  de la dimencion requerida  {dim}x{dim}:\") \n",
    "\n",
    "def U(g):\n",
    "  u=np.zeros((dim, dim)) \n",
    "  # Generar la matriz de ceros de tamaño 2^(n+1) x 2^(n+1)\n",
    "\n",
    "  for i in range(dim):\n",
    "    if (i%2)==0:\n",
    "      u[i,i]=1-g(i/2)\n",
    "      u[i,i+1]=g(i/2)\n",
    "      u[i+1,i]=g(i/2)\n",
    "    else:\n",
    "      u[i,i]=1-g((i-1)/2) \n",
    "\n",
    "  return u\n",
    "\n",
    "\n",
    "\n",
    "\n"
   ]
  },
  {
   "cell_type": "markdown",
   "metadata": {},
   "source": [
    "Generamos el circuito : \n"
   ]
  },
  {
   "cell_type": "code",
   "execution_count": 65,
   "metadata": {},
   "outputs": [],
   "source": [
    "@qml.qnode(dev)\n",
    "def circuit(L): #Aqui L es un Operador Uf con algun f albitrairo \n",
    "\n",
    "#Como todos los atomos se incializan con estados |0> , a nuestro ultimo Qbit lo hacemos |1>\n",
    "  qml.PauliX(wires=n)\n",
    "\n",
    "# Aplicar Hadamard desde wire 0 hasta wire n\n",
    "  for i in range(0,n):\n",
    "      qml.Hadamard(wires=i)\n",
    "\n",
    "# Aplicamos  Hadamard al ultimo qbit , que ahora es |1>, para que ahora sea |->\n",
    " # qml.Hadamard(wires=n)\n",
    "\n",
    "#Oraculo\n",
    "  qml.QubitUnitary(L,wires=list(range(n+1)))  \n",
    "  #Queremos que todos los Qbits, que son n+1 , sean transformados por el operador que se hizo. \n",
    "\n",
    "#Aplicamos Hadamard  a los primeros n Qbits de nuevo \n",
    "  for i in range(n):\n",
    "      qml.Hadamard(wires=i)\n",
    "\n",
    "#Medida\n",
    "  return qml.sample(wires=list(range(n)))"
   ]
  },
  {
   "cell_type": "markdown",
   "metadata": {},
   "source": [
    "Ahora estamos listos para  ejecutar nuestros circuitos en funcion de las diferentes posibles funciones $f(x)$ que podemos tener.  \n",
    "\n",
    "* **Circuito 1: Funcion *identidad***"
   ]
  },
  {
   "cell_type": "code",
   "execution_count": 69,
   "metadata": {},
   "outputs": [
    {
     "data": {
      "text/plain": [
       "array([[0, 0, 0, 1],\n",
       "       [0, 0, 0, 1],\n",
       "       [0, 0, 0, 1],\n",
       "       [0, 0, 0, 0],\n",
       "       [0, 0, 0, 0]], dtype=int64)"
      ]
     },
     "execution_count": 69,
     "metadata": {},
     "output_type": "execute_result"
    }
   ],
   "source": [
    "circuit(U(f1))"
   ]
  },
  {
   "cell_type": "markdown",
   "metadata": {},
   "source": [
    "* **Circuito 2: Funcion *flip***"
   ]
  },
  {
   "cell_type": "code",
   "execution_count": 70,
   "metadata": {},
   "outputs": [
    {
     "data": {
      "text/plain": [
       "array([[0, 0, 0, 0],\n",
       "       [0, 0, 0, 1],\n",
       "       [0, 0, 0, 1],\n",
       "       [0, 0, 0, 1],\n",
       "       [0, 0, 0, 0]], dtype=int64)"
      ]
     },
     "execution_count": 70,
     "metadata": {},
     "output_type": "execute_result"
    }
   ],
   "source": [
    "circuit(U(f2))"
   ]
  },
  {
   "cell_type": "markdown",
   "metadata": {},
   "source": [
    "* **Circuito 3: Funcion *Constante 0***"
   ]
  },
  {
   "cell_type": "code",
   "execution_count": 71,
   "metadata": {},
   "outputs": [
    {
     "data": {
      "text/plain": [
       "array([[0, 0, 0, 0],\n",
       "       [0, 0, 0, 0],\n",
       "       [0, 0, 0, 0],\n",
       "       [0, 0, 0, 0],\n",
       "       [0, 0, 0, 0]], dtype=int64)"
      ]
     },
     "execution_count": 71,
     "metadata": {},
     "output_type": "execute_result"
    }
   ],
   "source": [
    "circuit(U(f3))"
   ]
  },
  {
   "cell_type": "markdown",
   "metadata": {},
   "source": [
    "* **Circuito 4: Funcion *Constante 1***"
   ]
  },
  {
   "cell_type": "code",
   "execution_count": 50,
   "metadata": {},
   "outputs": [
    {
     "data": {
      "text/plain": [
       "array([[0, 0, 0, 0],\n",
       "       [0, 0, 0, 0],\n",
       "       [0, 0, 0, 0],\n",
       "       [0, 0, 0, 0],\n",
       "       [0, 0, 0, 1]], dtype=int64)"
      ]
     },
     "execution_count": 50,
     "metadata": {},
     "output_type": "execute_result"
    }
   ],
   "source": [
    "circuit(U(f3))"
   ]
  },
  {
   "cell_type": "markdown",
   "metadata": {},
   "source": [
    "Los resultados medidos tienen dos casos : \n",
    "\n",
    "* **Caso Constante** : El *array* regresado constara **unicamente** de ceros. \n",
    "\n",
    "* **Caso Balanceado** : El *array* regresado contendra **al menos**  un uno dentro de el."
   ]
  },
  {
   "cell_type": "markdown",
   "metadata": {},
   "source": [
    "**Pregunta** \n",
    "\n",
    "¿Por que es que varian cada una de las mediciones? ¿Es por el simulador cuantico? \n",
    "\n",
    "¿Como puedo manejar esos datos para que pueda decidir si efectivamente mi funcion es constante o es  Balanceada?"
   ]
  }
 ],
 "metadata": {
  "kernelspec": {
   "display_name": "base",
   "language": "python",
   "name": "python3"
  },
  "language_info": {
   "codemirror_mode": {
    "name": "ipython",
    "version": 3
   },
   "file_extension": ".py",
   "mimetype": "text/x-python",
   "name": "python",
   "nbconvert_exporter": "python",
   "pygments_lexer": "ipython3",
   "version": "3.12.4"
  }
 },
 "nbformat": 4,
 "nbformat_minor": 2
}
