{
 "cells": [
  {
   "cell_type": "markdown",
   "metadata": {},
   "source": [
    "<div style=\"text-align: center;\">\n",
    "\n",
    "# **Algoritmia Cuantica** \n",
    "# Periodicidad con varios qbits\n",
    "  \n",
    "<font size=\"2\">\n",
    "\n",
    "##### Daniel Amauri Vázquez Gutiérrez\n",
    "</font>"
   ]
  },
  {
   "cell_type": "markdown",
   "metadata": {},
   "source": [
    "Ahora replicaremos lo aprendido en la practica $6$ en esta , pero ahora expandiendolo a mas de 2 qbits como lo vimos. \n",
    "\n",
    "\n"
   ]
  },
  {
   "cell_type": "code",
   "execution_count": 2,
   "metadata": {},
   "outputs": [
    {
     "name": "stdout",
     "output_type": "stream",
     "text": [
      "1.2.0\n"
     ]
    }
   ],
   "source": [
    "#Bloque de importacion\n",
    "import numpy as np \n",
    "import math\n",
    "from qiskit import QuantumCircuit, transpile, assemble\n",
    "from qiskit_aer import Aer #Aer es un modulo de Qiskit que proporciona simuladores cuanticos para ejecutarlos de manera local.  \n",
    "from qiskit.quantum_info import Statevector,DensityMatrix\n",
    "from qiskit.visualization import plot_histogram,plot_bloch_multivector\n",
    "from qiskit.circuit import Gate\n",
    "\n",
    "import qiskit \n",
    "print(qiskit.version.get_version_info()) "
   ]
  },
  {
   "cell_type": "markdown",
   "metadata": {},
   "source": [
    "Para esto requeriremos especificar el numero *qbits de estimacion* y  *qbits de apoyo* emplearemos , asi como el *periodo* que le infundiremos  a nuestros qbits como cadena , para que de esta forma podamos comparar el periodo estimado alfinal del programa con el inducido al inicio de este.  \n",
    "\n",
    "Entonces, apartir de las limitaciones que tiene el algoritmo *Quantum Period Finding* , vemos que  forzosamente el periodo  $r$ tiene que ser de la forma:  \n",
    "\n",
    "$$r=2^j  , j \\in \\mathbb{N}$$"
   ]
  },
  {
   "cell_type": "markdown",
   "metadata": {},
   "source": [
    "Ademas , sabemos la siguiente relacion que debe de tener  el *periodo*, el numero de *qbits de estimacion* y el numero de *qbits de apoyo*:\n",
    "\n",
    "\n",
    "$$r\\leq 2^{s} < 2^{2s}\\leq 2^{t}=\\leq 2^{2s+1}$$  "
   ]
  },
  {
   "cell_type": "code",
   "execution_count": 3,
   "metadata": {},
   "outputs": [
    {
     "name": "stdout",
     "output_type": "stream",
     "text": [
      "Número de Qbits de estimacion: 6\n",
      "Número de Qbits de apoyo: 3\n"
     ]
    }
   ],
   "source": [
    "s=int(input(\"Ingresa un numero natural mayor igual a 1 , que sera nuestro numero total de qbits de apoyo : \")) \n",
    "t=2*s\n",
    "print(\"Número de Qbits de estimacion:\", t)\n",
    "print(\"Número de Qbits de apoyo:\", s)"
   ]
  },
  {
   "cell_type": "markdown",
   "metadata": {},
   "source": [
    "Intentaremos primero inducir solo una funcion de dos valores.  \n",
    "\n",
    "$$\n",
    "f(x) = \n",
    "\\begin{cases} \n",
    "    1, & \\text{si } x  \\text{ comienza el periodo } \\\\ \n",
    "    0, & \\text{cualquier otro valor } \n",
    "\\end{cases}\n",
    "$$ \n",
    "\n"
   ]
  },
  {
   "cell_type": "markdown",
   "metadata": {},
   "source": [
    "Notamos que la funcion que estoy definiendo conuerda muy bien con  la funcion *modulo 2*, por lo que volveremos a implementar el *Quantum period finding* para un periodo igual a 2 . "
   ]
  },
  {
   "cell_type": "code",
   "execution_count": 4,
   "metadata": {},
   "outputs": [],
   "source": [
    "# Definir la compuerta personalizada que realiza la Transformada Cuantica \n",
    "class QFT(Gate):\n",
    "    def __init__(self, s):\n",
    "        # n es el numero que será representado en binario, s es el número de qubits\n",
    "        super().__init__('QFT_CUSTOM', s,[])  # La etiqueta de la compuerta y el número de qubits\n",
    "        self.s = s\n",
    "        \n",
    "       \n",
    "\n",
    "    def _define(self):\n",
    "        qc = QuantumCircuit(self.s)\n",
    "\n",
    "        # Aplicar la Transformada Cuantica de Fourier \n",
    "        for j in range(self.s):\n",
    "            qc.h(self.s - (j + 1))\n",
    "            if self.s - (j + 1) > 0:\n",
    "                for k in range(self.s - (j + 1)):\n",
    "                    l = self.s - (j + 1) - 1 - k\n",
    "                    qc.cp(2 * np.pi / (2 ** (self.s - j - l)), l, self.s - (j + 1))\n",
    "\n",
    "        # Aplicar los swaps necesarios\n",
    "        if self.s % 2 == 1:\n",
    "            for l in range((self.s - 1) // 2):\n",
    "                qc.swap(l, self.s - 1 - l)\n",
    "        else:\n",
    "            for l in range(self.s // 2):\n",
    "                qc.swap(l, self.s - 1 - l)\n",
    "\n",
    "        self.definition = qc  "
   ]
  },
  {
   "cell_type": "code",
   "execution_count": 5,
   "metadata": {},
   "outputs": [],
   "source": [
    "#Transformada Cuantica de Fourier Inversa  \n",
    "\n",
    "class IQFT(Gate):\n",
    "    def __init__(self, s):\n",
    "        # n es el numero que será representado en binario, s es el número de qubits\n",
    "        super().__init__('IQFT_CUSTOM', s, [])  # La etiqueta de la compuerta y el número de qubits\n",
    "        self.s = s\n",
    "        \n",
    "\n",
    "    def _define(self):\n",
    "         qc = QuantumCircuit(self.s)\n",
    " \n",
    "         #Primero volvemos a Switchear \n",
    "         if self.s % 2 == 1:\n",
    "               for l in range((self.s - 1) // 2):\n",
    "                  qc.swap(l, self.s - 1 - l)\n",
    "         else:\n",
    "               for l in range(self.s // 2):\n",
    "                  qc.swap(l, self.s - 1 - l)\n",
    "\n",
    "\n",
    "            #Volvemos a añadir las compuertas pero ahora en un sentido invertido \n",
    "\n",
    "         for j in range(self.s):  \n",
    "               qc.h(j)\n",
    "\n",
    "               if j<(self.s-1):\n",
    "                  for k in range(j+1):\n",
    "                     qc.cp(2*np.pi/(-2**(k+2)),j+1,j-k)   \n",
    "\n",
    "         \n",
    "            #Agragamos este SWAP que no deberia ser nesesario , sin embargo , lo ponemos dado que esto nos permite ver los estados de los Qbits en un orden\n",
    "            #usal en el que vemos los numeros binarios y asi poderlo comparar con el arreglo original que producimos al inicializar el circuito. \n",
    "\n",
    "         \n",
    "         self.definition = qc  "
   ]
  },
  {
   "cell_type": "code",
   "execution_count": 6,
   "metadata": {},
   "outputs": [],
   "source": [
    "# SWAP  cumtomizado  \n",
    "class SWAP(Gate):\n",
    "    def __init__(self, s):\n",
    "        # n es el numero que será representado en binario, s es el número de qubits\n",
    "        super().__init__('SWAP_CUSTOM', s, [])  # La etiqueta de la compuerta y el número de qubits\n",
    "        self.s = s\n",
    "        \n",
    "\n",
    "    def _define(self):\n",
    "         qc = QuantumCircuit(self.s)\n",
    " \n",
    "         #Primero volvemos a Switchear \n",
    "         if self.s % 2 == 1:\n",
    "               for l in range((self.s - 1) // 2):\n",
    "                  qc.swap(l, self.s - 1 - l)\n",
    "         else:\n",
    "               for l in range(self.s // 2):\n",
    "                  qc.swap(l, self.s - 1 - l)\n",
    "\n",
    "\n",
    "         \n",
    "         self.definition = qc  "
   ]
  },
  {
   "cell_type": "code",
   "execution_count": 7,
   "metadata": {},
   "outputs": [
    {
     "data": {
      "image/png": "[encoded data removed]",
      "text/plain": [
       "<Figure size 1290.83x869.556 with 1 Axes>"
      ]
     },
     "execution_count": 7,
     "metadata": {},
     "output_type": "execute_result"
    }
   ],
   "source": [
    "qc = QuantumCircuit(t+s,t)  #Tenemos t+s qbits,t de estimacion y s de apoyo\n",
    "\n",
    "iqft_1=IQFT(t) #Unicamente aplicaremos la compuerta a los qbits de estimacion\n",
    "\n",
    "#Aplicamos compuertas de hadamard en los qbits de precision\n",
    "for j in range(t):  \n",
    "   qc.h(j)  \n",
    "\n",
    "\n",
    "#suponemos un periodo de 2\n",
    "\n",
    "#detectar impares\n",
    "\n",
    "qc.cx(t-1,t+s-1)\n",
    "\n",
    "\n",
    "qc.append(SWAP(t),range(t))\n",
    "qc.append(iqft_1, range(t))   \n",
    "\n",
    "qc.measure(range(t), range(t))\n",
    "qc.draw('mpl')"
   ]
  },
  {
   "cell_type": "code",
   "execution_count": 8,
   "metadata": {},
   "outputs": [
    {
     "data": {
      "image/png": "[encoded data removed]",
      "text/plain": [
       "<Figure size 640x480 with 1 Axes>"
      ]
     },
     "execution_count": 8,
     "metadata": {},
     "output_type": "execute_result"
    }
   ],
   "source": [
    "#------Obtencion del histograma ----------------\n",
    "\n",
    "backend=Aer.get_backend('qasm_simulator')  \n",
    "#podemos cambiar a 'qasm_simulator' , ya que 'statevector_simulator' no es compatible con mediciones clasicas\n",
    "\n",
    "compilado=transpile(qc, backend)  \n",
    "#transpile es una funcion que optimiza el circuito cuantico para que sea compatible con el backend seleccionado. \n",
    "\n",
    "job=backend.run(compilado, shots=2024)  \n",
    "#Ejecutamos el circuito cuantico \n",
    "#Shots, especifica cuantas veces se ejecuta el circuito cuantico ( recordemos que la cuantica es probabilistica)\n",
    "\n",
    "result=job.result() #Obtiene los resultados del lo anterior\n",
    "\n",
    "# Graficamos el histograma de resultados\n",
    "plot_histogram(result.get_counts()) "
   ]
  },
  {
   "cell_type": "code",
   "execution_count": 9,
   "metadata": {},
   "outputs": [
    {
     "name": "stdout",
     "output_type": "stream",
     "text": [
      "Todos los valores binarios: ['100000', '000000']\n",
      "Todos los valores decimales: [32, 0]\n"
     ]
    }
   ],
   "source": [
    "# Cuentas\n",
    "counts = result.get_counts()\n",
    "\n",
    "# Listas para almacenar los resultados\n",
    "valores_binarios = []\n",
    "valores_decimales = []\n",
    "\n",
    "# Itera sobre todos los valores en counts\n",
    "for valor_binario in counts:\n",
    "    # Guarda el valor binario y su valor decimal\n",
    "    valores_binarios.append(valor_binario)\n",
    "    valores_decimales.append(int(valor_binario, 2))\n",
    "\n",
    "# Imprime los resultados\n",
    "print(\"Todos los valores binarios:\", valores_binarios)\n",
    "print(\"Todos los valores decimales:\", valores_decimales)"
   ]
  },
  {
   "cell_type": "code",
   "execution_count": 10,
   "metadata": {},
   "outputs": [],
   "source": [
    "#Algoritmo de Fraccion Continua \n",
    "\n",
    "from fractions import Fraction\n",
    "\n",
    "def continued_fraction(x, max_iterations=100):\n",
    "    #Devuelve los coeficientes de la fracción continua de x\n",
    "    cf = []  # Lista para almacenar los coeficientes de la fracción continua\n",
    "    while max_iterations > 0:\n",
    "        # Obtener la parte entera\n",
    "        a = int(x) #redondea al menor entero cercano\n",
    "        cf.append(a) #añade a a a la lista cf\n",
    "        \n",
    "        # Calcular el resto\n",
    "        x = x - a\n",
    "        \n",
    "        # Si el resto es cero, hemos terminado\n",
    "        if x == 0:\n",
    "            break\n",
    "        \n",
    "        # Tomamos el recíproco del resto para continuar la fracción continua\n",
    "        x = 1 / x\n",
    "        max_iterations -= 1\n",
    "    \n",
    "    return cf\n",
    "\n",
    "def approximate_fraction(cf):\n",
    "    \"\"\"Toma los coeficientes de una fracción continua y devuelve la aproximación como una fracción.\"\"\"\n",
    "    n = len(cf)\n",
    "    \n",
    "    # Manejo especial si la fracción continua es muy pequeña\n",
    "    if n == 0:\n",
    "        return Fraction(0)\n",
    "    \n",
    "    # Inicializamos con la última fracción (el último término)\n",
    "    frac = Fraction(cf[-1])\n",
    "    \n",
    "    # Empezamos a recorrer los términos de la fracción continua en orden inverso\n",
    "    for a in reversed(cf[:-1]):\n",
    "        frac = a + 1 / frac\n",
    "    \n",
    "    return frac\n",
    "\n",
    "\n"
   ]
  },
  {
   "cell_type": "code",
   "execution_count": 11,
   "metadata": {},
   "outputs": [
    {
     "name": "stdout",
     "output_type": "stream",
     "text": [
      "Paso para el valor 32\n",
      "Fracción continua sin ceros iniciales: [0, 2]\n",
      "Fracción continua: [0, 2]\n",
      "Fracción aproximada usando hasta el término  1/2\n",
      "La fase aproximada (denominador) en este paso es: 2\n",
      "\n",
      "\n",
      "Valor decimal x[1] es 0, pasando al siguiente valor.\n"
     ]
    }
   ],
   "source": [
    "# Listas para almacenar los resultados intermedios\n",
    "x = []\n",
    "cf = []\n",
    "approx_frac = []\n",
    "r = []\n",
    "\n",
    "# Itera sobre todos los valores decimales obtenidos previamente\n",
    "for i in range(len(valores_decimales)): \n",
    "    if valores_decimales[i]==0:\n",
    "        print(f\"Valor decimal x[{i}] es 0, pasando al siguiente valor.\")\n",
    "        continue  # Salta el resto del procesamiento para este valor\n",
    "\n",
    "    print(f\"Paso para el valor {valores_decimales[i]}\")\n",
    "    x_val = valores_decimales[i]/ 2**t  # Aproximación decimal\n",
    "    x.append(x_val)\n",
    "    \n",
    "    # Calcula la fracción continua completa\n",
    "    cf_val = continued_fraction(x_val)\n",
    "    print(f\"Fracción continua sin ceros iniciales: {cf_val}\")\n",
    "    cf.append(cf_val)\n",
    "\n",
    "    approx_val = approximate_fraction(cf_val)\n",
    "    approx_frac.append(approx_val)\n",
    "        \n",
    "     # Obtén el denominador de la fracción aproximada\n",
    "    r_val = approx_val.denominator\n",
    "    r.append(r_val)\n",
    "\n",
    "    # Imprime los resultados paso a paso\n",
    "    print(f\"Fracción continua: {cf_val}\")\n",
    "    print(f\"Fracción aproximada usando hasta el término  {approx_val}\")\n",
    "    print(f\"La fase aproximada (denominador) en este paso es: {r_val}\")\n",
    "    print(\"\\n\")"
   ]
  }
 ],
 "metadata": {
  "kernelspec": {
   "display_name": "base",
   "language": "python",
   "name": "python3"
  },
  "language_info": {
   "codemirror_mode": {
    "name": "ipython",
    "version": 3
   },
   "file_extension": ".py",
   "mimetype": "text/x-python",
   "name": "python",
   "nbconvert_exporter": "python",
   "pygments_lexer": "ipython3",
   "version": "3.12.4"
  }
 },
 "nbformat": 4,
 "nbformat_minor": 2
}
