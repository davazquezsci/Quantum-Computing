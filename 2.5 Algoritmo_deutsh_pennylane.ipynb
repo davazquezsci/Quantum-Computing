{
  "cells": [
    {
      "cell_type": "code",
      "execution_count": 1,
      "metadata": {
        "colab": {
          "base_uri": "https://localhost:8080/"
        },
        "id": "11U_jg-RAtZO",
        "outputId": "c3d4afcf-799b-47d4-b348-5120e22e233c"
      },
      "outputs": [
        {
          "name": "stdout",
          "output_type": "stream",
          "text": [
            "Requirement already satisfied: pennylane in c:\\users\\dangv\\anaconda3\\lib\\site-packages (0.38.0)\n",
            "Requirement already satisfied: numpy<2.0 in c:\\users\\dangv\\anaconda3\\lib\\site-packages (from pennylane) (1.26.4)\n",
            "Requirement already satisfied: scipy in c:\\users\\dangv\\anaconda3\\lib\\site-packages (from pennylane) (1.13.1)\n",
            "Requirement already satisfied: networkx in c:\\users\\dangv\\anaconda3\\lib\\site-packages (from pennylane) (3.2.1)\n",
            "Requirement already satisfied: rustworkx>=0.14.0 in c:\\users\\dangv\\anaconda3\\lib\\site-packages (from pennylane) (0.15.1)\n",
            "Requirement already satisfied: autograd in c:\\users\\dangv\\anaconda3\\lib\\site-packages (from pennylane) (1.7.0)\n",
            "Requirement already satisfied: toml in c:\\users\\dangv\\anaconda3\\lib\\site-packages (from pennylane) (0.10.2)\n",
            "Requirement already satisfied: appdirs in c:\\users\\dangv\\anaconda3\\lib\\site-packages (from pennylane) (1.4.4)\n",
            "Requirement already satisfied: autoray>=0.6.11 in c:\\users\\dangv\\anaconda3\\lib\\site-packages (from pennylane) (0.6.12)\n",
            "Requirement already satisfied: cachetools in c:\\users\\dangv\\anaconda3\\lib\\site-packages (from pennylane) (5.3.3)\n",
            "Requirement already satisfied: pennylane-lightning>=0.38 in c:\\users\\dangv\\anaconda3\\lib\\site-packages (from pennylane) (0.38.0)\n",
            "Requirement already satisfied: requests in c:\\users\\dangv\\anaconda3\\lib\\site-packages (from pennylane) (2.32.2)\n",
            "Requirement already satisfied: typing-extensions in c:\\users\\dangv\\anaconda3\\lib\\site-packages (from pennylane) (4.11.0)\n",
            "Requirement already satisfied: packaging in c:\\users\\dangv\\anaconda3\\lib\\site-packages (from pennylane) (23.2)\n",
            "Requirement already satisfied: charset-normalizer<4,>=2 in c:\\users\\dangv\\anaconda3\\lib\\site-packages (from requests->pennylane) (2.0.4)\n",
            "Requirement already satisfied: idna<4,>=2.5 in c:\\users\\dangv\\anaconda3\\lib\\site-packages (from requests->pennylane) (3.7)\n",
            "Requirement already satisfied: urllib3<3,>=1.21.1 in c:\\users\\dangv\\anaconda3\\lib\\site-packages (from requests->pennylane) (2.2.2)\n",
            "Requirement already satisfied: certifi>=2017.4.17 in c:\\users\\dangv\\anaconda3\\lib\\site-packages (from requests->pennylane) (2024.7.4)\n",
            "Note: you may need to restart the kernel to use updated packages.\n"
          ]
        }
      ],
      "source": [
        "pip install pennylane"
      ]
    },
    {
      "cell_type": "code",
      "execution_count": 2,
      "metadata": {
        "id": "0jOuEiI9BJx1"
      },
      "outputs": [],
      "source": [
        "import pennylane as qml\n",
        "import numpy as np"
      ]
    },
    {
      "cell_type": "code",
      "execution_count": 4,
      "metadata": {
        "id": "07k0kjB2BQwU"
      },
      "outputs": [],
      "source": [
        "#Crea el dispositivo cuantico\n",
        "dev = qml.device('default.qubit', wires=2,shots=1)"
      ]
    },
    {
      "cell_type": "markdown",
      "metadata": {
        "id": "jP6rJ-5tFew6"
      },
      "source": [
        "Ahora debemos definir la función que será evaluada (uno de los cuatro casos explicados en la sección anterior). Consideremos el caso uno, donde f(0) = 0 y f(1) = 0."
      ]
    },
    {
      "cell_type": "code",
      "execution_count": 5,
      "metadata": {
        "id": "VTwEmZwcFhWI"
      },
      "outputs": [],
      "source": [
        "def f(x):\n",
        "  #f:{0,1}-->{0,1}\n",
        "  if x==0:\n",
        "    return 0\n",
        "  if x==1:\n",
        "    return 0"
      ]
    },
    {
      "cell_type": "markdown",
      "metadata": {
        "id": "Rh5oSJNcNX7z"
      },
      "source": [
        "Ahora debemos definir la función que será evaluada (uno de los cuatro casos explicados en la sección anterior). Consideremos el caso dos, donde f(0) = 1 y f(1) = 0."
      ]
    },
    {
      "cell_type": "code",
      "execution_count": 6,
      "metadata": {
        "id": "pnRA8OTEJWhI"
      },
      "outputs": [],
      "source": [
        "def f2(x):\n",
        "  #f2:{0,1}-->{1,0}\n",
        "  if x==0:\n",
        "    return 1\n",
        "  if x==1:\n",
        "    return 0"
      ]
    },
    {
      "cell_type": "markdown",
      "metadata": {
        "id": "d2KwCidTF3ao"
      },
      "source": [
        "Preparar el oráculo por el que pasarán nuestros qubits."
      ]
    },
    {
      "cell_type": "code",
      "execution_count": 7,
      "metadata": {
        "id": "WbKmRrQaF2ze"
      },
      "outputs": [],
      "source": [
        "def U(g):\n",
        "  u=np.array([\n",
        "      [1-g(0),g(0),0,0],\n",
        "      [g(0),1-g(0),0,0],\n",
        "      [0,0,1-g(1),g(1)],\n",
        "      [0,0,g(1),1-g(1)]\n",
        "  ])\n",
        "  return u"
      ]
    },
    {
      "cell_type": "markdown",
      "metadata": {
        "id": "cMF71y_0GlZb"
      },
      "source": [
        "Además, definamos nuestra matriz unitaria como el oráculo que llama a la función que definimos anteriormente."
      ]
    },
    {
      "cell_type": "code",
      "execution_count": 8,
      "metadata": {
        "id": "0Xcs2DUpGmik"
      },
      "outputs": [],
      "source": [
        "U_f=U(f)"
      ]
    },
    {
      "cell_type": "code",
      "execution_count": 9,
      "metadata": {
        "id": "-5OMeSBrHimL"
      },
      "outputs": [],
      "source": [
        "@qml.qnode(dev)\n",
        "def circuit():\n",
        "  qml.PauliX(wires=1)\n",
        "  qml.Hadamard(wires=0)\n",
        "  qml.Hadamard(wires=1)\n",
        "  #oraculo\n",
        "  qml.QubitUnitary(U_f,wires=[0,1])\n",
        "  qml.Hadamard(wires=0)\n",
        "  #medida\n",
        "  return qml.sample(wires=0)"
      ]
    },
    {
      "cell_type": "code",
      "execution_count": 10,
      "metadata": {
        "colab": {
          "base_uri": "https://localhost:8080/"
        },
        "id": "9DM6pBpgJLe-",
        "outputId": "163c2cf1-84d3-4026-97ac-0967f124ec64"
      },
      "outputs": [
        {
          "data": {
            "text/plain": [
              "array(0, dtype=int64)"
            ]
          },
          "execution_count": 10,
          "metadata": {},
          "output_type": "execute_result"
        }
      ],
      "source": [
        "circuit()"
      ]
    },
    {
      "cell_type": "markdown",
      "metadata": {
        "id": "pMuIrWqKJj8Y"
      },
      "source": [
        "Ahora probemos con la funcion f2 que es balanceada\n"
      ]
    },
    {
      "cell_type": "code",
      "execution_count": 11,
      "metadata": {
        "id": "XoG42ds5JiH4"
      },
      "outputs": [],
      "source": [
        "U_f=U(f2)"
      ]
    },
    {
      "cell_type": "code",
      "execution_count": 12,
      "metadata": {
        "colab": {
          "base_uri": "https://localhost:8080/"
        },
        "id": "FSRgODNEJqGK",
        "outputId": "cf9469a0-b88f-4c6e-c939-a961d3e651e9"
      },
      "outputs": [
        {
          "data": {
            "text/plain": [
              "array(1, dtype=int64)"
            ]
          },
          "execution_count": 12,
          "metadata": {},
          "output_type": "execute_result"
        }
      ],
      "source": [
        "circuit()"
      ]
    }
  ],
  "metadata": {
    "colab": {
      "provenance": []
    },
    "kernelspec": {
      "display_name": "Python 3",
      "name": "python3"
    },
    "language_info": {
      "codemirror_mode": {
        "name": "ipython",
        "version": 3
      },
      "file_extension": ".py",
      "mimetype": "text/x-python",
      "name": "python",
      "nbconvert_exporter": "python",
      "pygments_lexer": "ipython3",
      "version": "3.12.4"
    }
  },
  "nbformat": 4,
  "nbformat_minor": 0
}
